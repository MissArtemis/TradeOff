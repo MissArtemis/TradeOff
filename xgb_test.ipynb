{
 "cells": [
  {
   "cell_type": "code",
   "execution_count": 1,
   "outputs": [],
   "source": [
    "import akshare as ak\n",
    "import xgboost as xgb\n",
    "from sklearn.metrics import f1_score, accuracy_score\n",
    "from sklearn.model_selection import GridSearchCV\n",
    "from time import sleep\n",
    "import pandas as pd"
   ],
   "metadata": {
    "collapsed": false,
    "pycharm": {
     "name": "#%%\n"
    }
   }
  },
  {
   "cell_type": "code",
   "execution_count": 2,
   "outputs": [
    {
     "data": {
      "text/plain": "['半导体及元件',\n '白色家电',\n '保险及其他',\n '包装印刷',\n '传媒',\n '厨卫电器',\n '电力',\n '电力设备',\n '电子化学品',\n '房地产服务',\n '房地产开发',\n '非金属材料',\n '非汽车交运',\n '服装家纺',\n '纺织制造',\n '国防军工',\n '贵金属',\n '港口航运',\n '公路铁路运输',\n '钢铁',\n '光学光电子',\n '工业金属',\n '环保',\n '化工合成材料',\n '互联网电商',\n '黑色家电',\n '化学原料',\n '化学制品',\n '化学制药',\n '机场航运',\n '酒店及餐饮',\n '景点及旅游',\n '计算机设备',\n '计算机应用',\n '金属新材料',\n '教育',\n '家用轻工',\n '建筑材料',\n '建筑装饰',\n '零售',\n '美容护理',\n '煤炭开采加工',\n '贸易',\n '农产品加工',\n '农业服务',\n '汽车服务',\n '汽车零部件',\n '汽车整车',\n '其他电子',\n '其他社会服务',\n '燃气',\n '食品加工制造',\n '生物制品',\n '石油加工贸易',\n '通信服务',\n '通信设备',\n '通用设备',\n '物流',\n '消费电子',\n '小家电',\n '小金属',\n '医疗服务',\n '医疗器械',\n '饮料制造',\n '油气开采及服务',\n '仪器仪表',\n '银行',\n '医药商业',\n '养殖业',\n '自动化设备',\n '综合',\n '证券',\n '中药',\n '专用设备',\n '造纸',\n '种植业与林业']"
     },
     "execution_count": 2,
     "metadata": {},
     "output_type": "execute_result"
    }
   ],
   "source": [
    "stock_ind_list = ak.stock_board_industry_name_ths()['name'].to_list()\n",
    "stock_ind_list"
   ],
   "metadata": {
    "collapsed": false,
    "pycharm": {
     "name": "#%%\n"
    }
   }
  },
  {
   "cell_type": "code",
   "execution_count": 3,
   "outputs": [
    {
     "name": "stderr",
     "output_type": "stream",
     "text": [
      "                                               \r"
     ]
    }
   ],
   "source": [
    "ind_today = dict()\n",
    "ind_dataframe_list = []\n",
    "for s in stock_ind_list:\n",
    "    try:\n",
    "        industry = ak.stock_board_industry_index_ths(symbol=s)\n",
    "    except:\n",
    "        sleep(30)\n",
    "        industry = ak.stock_board_industry_index_ths(symbol=s)\n",
    "    industry.rename(columns={u'日期':'date', u'开盘价': 'open', u'最高价':'high',u'最低价':'low', u'收盘价':'close', u'成交量':'volume', u'成交额':'amount'}, inplace=True)\n",
    "    industry['close'] = pd.to_numeric(industry['close'], errors='coerce')\n",
    "    industry['open'] = pd.to_numeric(industry['open'], errors='coerce')\n",
    "    industry['high'] = pd.to_numeric(industry['high'], errors='coerce')\n",
    "    industry['low'] = pd.to_numeric(industry['low'], errors='coerce')\n",
    "    industry['volume'] = pd.to_numeric(industry['volume'], errors='coerce')\n",
    "    industry['amount'] = pd.to_numeric(industry['amount'], errors='coerce')\n",
    "    industry['EMA_9'] = industry['close'].ewm(9).mean().shift()\n",
    "    industry['SMA_5'] = industry['close'].rolling(5).mean().shift()\n",
    "    industry['SMA_10'] = industry['close'].rolling(10).mean().shift()\n",
    "    industry['SMA_12'] = industry['close'].rolling(12).mean().shift()\n",
    "    industry['SMA_15'] = industry['close'].rolling(15).mean().shift()\n",
    "    industry['SMA_20'] = industry['close'].rolling(20).mean().shift()\n",
    "    industry['SMA_30'] = industry['close'].rolling(30).mean().shift()\n",
    "    industry['volume_t1'] = industry['volume'].shift(1)\n",
    "    industry['volume_t2'] = industry['volume'].shift(2)\n",
    "    industry['volume_t3'] = industry['volume'].shift(3)\n",
    "    industry['volume_t4'] = industry['volume'].shift(4)\n",
    "    industry['volume_t5'] = industry['volume'].shift(5)\n",
    "    industry['volume_t6'] = industry['volume'].shift(6)\n",
    "    industry['volume_t7'] = industry['volume'].shift(7)\n",
    "    industry['volume_t8'] = industry['volume'].shift(8)\n",
    "    industry['volume_t9'] = industry['volume'].shift(9)\n",
    "    industry['volume_t10'] = industry['volume'].shift(10)\n",
    "    industry['close_t1'] = industry['close'].shift(1)\n",
    "    industry['close_t2'] = industry['close'].shift(2)\n",
    "    industry['close_t3'] = industry['close'].shift(3)\n",
    "    industry['close_t4'] = industry['close'].shift(4)\n",
    "    industry['close_t5'] = industry['close'].shift(5)\n",
    "    industry['close_t6'] = industry['close'].shift(6)\n",
    "    industry['close_t7'] = industry['close'].shift(7)\n",
    "    industry['close_t8'] = industry['close'].shift(8)\n",
    "    industry['close_t9'] = industry['close'].shift(9)\n",
    "    industry['close_t10'] = industry['close'].shift(10)\n",
    "    industry['high_t1'] = industry['high'].shift(1)\n",
    "    industry['high_t2'] = industry['high'].shift(2)\n",
    "    industry['high_t3'] = industry['high'].shift(3)\n",
    "    industry['high_t4'] = industry['high'].shift(4)\n",
    "    industry['high_t5'] = industry['high'].shift(5)\n",
    "    industry['high_t6'] = industry['high'].shift(6)\n",
    "    industry['high_t7'] = industry['high'].shift(7)\n",
    "    industry['high_t8'] = industry['high'].shift(8)\n",
    "    industry['high_t9'] = industry['high'].shift(9)\n",
    "    industry['high_t10'] = industry['high'].shift(10)\n",
    "    industry['low_t1'] = industry['low'].shift(1)\n",
    "    industry['low_t2'] = industry['low'].shift(2)\n",
    "    industry['low_t3'] = industry['low'].shift(3)\n",
    "    industry['low_t4'] = industry['low'].shift(4)\n",
    "    industry['low_t5'] = industry['low'].shift(5)\n",
    "    industry['low_t6'] = industry['low'].shift(6)\n",
    "    industry['low_t7'] = industry['low'].shift(7)\n",
    "    industry['low_t8'] = industry['low'].shift(8)\n",
    "    industry['low_t9'] = industry['low'].shift(9)\n",
    "    industry['low_t10'] = industry['low'].shift(10)\n",
    "    industry['amount_t1'] = industry['amount'].shift(1)\n",
    "    industry['amount_t2'] = industry['amount'].shift(2)\n",
    "    industry['amount_t3'] = industry['amount'].shift(3)\n",
    "    industry['amount_t4'] = industry['amount'].shift(4)\n",
    "    industry['amount_t5'] = industry['amount'].shift(5)\n",
    "    industry['amount_t6'] = industry['amount'].shift(6)\n",
    "    industry['amount_t7'] = industry['amount'].shift(7)\n",
    "    industry['amount_t8'] = industry['amount'].shift(8)\n",
    "    industry['amount_t9'] = industry['amount'].shift(9)\n",
    "    industry['amount_t10'] = industry['amount'].shift(10)\n",
    "    industry['SMA_10_rate_1'] = (industry['SMA_10'] - industry['SMA_10'].shift(1))\n",
    "    industry['SMA_10_rate_2'] = (industry['SMA_10'].shift(1) - industry['SMA_10'].shift(2))\n",
    "    industry['SMA_10_rate_3'] = (industry['SMA_10'].shift(2) - industry['SMA_10'].shift(3))\n",
    "    industry['SMA_10_rate_4'] = (industry['SMA_10'].shift(3) - industry['SMA_10'].shift(4))\n",
    "    industry['SMA_10_rate_5'] = (industry['SMA_10'].shift(4) - industry['SMA_10'].shift(5))\n",
    "    industry['SMA_5_rate_1'] = (industry['SMA_5'] - industry['SMA_5'].shift(1))\n",
    "    industry['SMA_5_rate_2'] = (industry['SMA_5'].shift(1) - industry['SMA_5'].shift(2))\n",
    "    industry['SMA_5_rate_3'] = (industry['SMA_5'].shift(2) - industry['SMA_5'].shift(3))\n",
    "    industry['SMA_5_rate_4'] = (industry['SMA_5'].shift(3) - industry['SMA_5'].shift(4))\n",
    "    industry['SMA_5_rate_5'] = (industry['SMA_5'].shift(4) - industry['SMA_5'].shift(5))\n",
    "    industry['y'] = (industry['close'] - industry['close_t1'])/industry['close']\n",
    "    industry['y'] = industry['y'].apply(lambda x: '1' if x>=0 else '0')\n",
    "    industry['y'] = industry['y'].astype(int)\n",
    "    industry['y'] = industry['y'].shift(-1)\n",
    "    industry_now = industry.tail(1)\n",
    "    industry.dropna(axis=0, inplace=True)\n",
    "    drop_cols = ['date']\n",
    "    industry = industry.drop(drop_cols, 1)\n",
    "    ind_today.update({s:industry_now})\n",
    "    ind_dataframe_list.append(industry)\n"
   ],
   "metadata": {
    "collapsed": false,
    "pycharm": {
     "name": "#%%\n"
    }
   }
  },
  {
   "cell_type": "code",
   "execution_count": 4,
   "outputs": [
    {
     "name": "stderr",
     "output_type": "stream",
     "text": [
      "/Users/zhangjinghang/.conda/envs/ML/lib/python3.8/site-packages/xgboost/sklearn.py:1146: UserWarning: The use of label encoder in XGBClassifier is deprecated and will be removed in a future release. To remove this warning, do the following: 1) Pass option use_label_encoder=False when constructing XGBClassifier object; and 2) Encode your labels (y) as integers starting with 0, i.e. 0, 1, 2, ..., [num_class - 1].\n",
      "  warnings.warn(label_encoder_deprecation_msg, UserWarning)\n"
     ]
    },
    {
     "name": "stdout",
     "output_type": "stream",
     "text": [
      "[20:42:40] WARNING: /Users/travis/build/dmlc/xgboost/src/learner.cc:1095: Starting in XGBoost 1.3.0, the default evaluation metric used with the objective 'binary:logistic' was changed from 'error' to 'logloss'. Explicitly set eval_metric if you'd like to restore the old behavior.\n",
      "accuracy:  0.5650275891053538\n",
      "f1:  0.6738701742259449\n"
     ]
    }
   ],
   "source": [
    "from sklearn.model_selection import train_test_split\n",
    "ind_dataframe = pd.concat(ind_dataframe_list,axis=0, ignore_index=True)\n",
    "X = ind_dataframe.drop(['y'], axis=1)\n",
    "Y = ind_dataframe['y'].copy()\n",
    "X_train, X_test, y_train, y_test = train_test_split(X, Y, test_size=0.3)\n",
    "parameters = {\n",
    "'n_estimators': [5,6,7,8,9],\n",
    "'learning_rate': [0.02,0.01,0.025,0.03],\n",
    "'max_depth': [5,6,7,8,9],\n",
    "'gamma': [0.02,0.01,0.025,0.03],\n",
    "}\n",
    "model = xgb.XGBClassifier(use_label_encoder=False, eval_metric = 'logloss').fit(X_train, y_train)\n",
    "clf = GridSearchCV(model, parameters)\n",
    "clf.fit(X_train, y_train)\n",
    "model = xgb.XGBClassifier(**clf.best_params_)\n",
    "model.fit(X_train, y_train)\n",
    "y_pred = model.predict(X_test)\n",
    "accuracy = accuracy_score(y_test, y_pred)\n",
    "f1 = f1_score(y_test, y_pred)\n",
    "print('accuracy: ',  accuracy)\n",
    "print('f1: ', f1)"
   ],
   "metadata": {
    "collapsed": false,
    "pycharm": {
     "name": "#%%\n"
    }
   }
  },
  {
   "cell_type": "code",
   "execution_count": 5,
   "outputs": [
    {
     "data": {
      "text/plain": "array([[0.49971563, 0.5002844 ],\n       [0.48710912, 0.5128909 ],\n       [0.49595273, 0.5040473 ],\n       ...,\n       [0.49308527, 0.50691473],\n       [0.50867987, 0.49132016],\n       [0.49813795, 0.50186205]], dtype=float32)"
     },
     "execution_count": 5,
     "metadata": {},
     "output_type": "execute_result"
    }
   ],
   "source": [
    "model.predict_proba(X_test)\n"
   ],
   "metadata": {
    "collapsed": false,
    "pycharm": {
     "name": "#%%\n"
    }
   }
  },
  {
   "cell_type": "code",
   "execution_count": 22,
   "outputs": [],
   "source": [
    "result_list = []\n",
    "for k in ind_today.keys():\n",
    "    pred_data = ind_today[k].drop(['date', 'y'], 1).loc[:].copy()\n",
    "    pred_t = model.predict_proba(pred_data)\n",
    "    # print(pred_t)\n",
    "    score = pred_t[0][1]\n",
    "    result_list.append({'name':k, 'score':score})\n",
    "result = pd.DataFrame(result_list)\n",
    "result.sort_values('score', axis = 0, ascending=False, inplace=True)\n",
    "result.to_excel('./ind_pred_result_new.xlsx')\n"
   ],
   "metadata": {
    "collapsed": false,
    "pycharm": {
     "name": "#%%\n"
    }
   }
  },
  {
   "cell_type": "code",
   "execution_count": 23,
   "outputs": [],
   "source": [
    "from xgboost import plot_importance, plot_tree\n"
   ],
   "metadata": {
    "collapsed": false,
    "pycharm": {
     "name": "#%%\n"
    }
   }
  },
  {
   "cell_type": "code",
   "execution_count": 26,
   "outputs": [
    {
     "data": {
      "text/plain": "<AxesSubplot:title={'center':'Feature importance'}, xlabel='F score', ylabel='Features'>"
     },
     "execution_count": 26,
     "metadata": {},
     "output_type": "execute_result"
    },
    {
     "data": {
      "text/plain": "<Figure size 432x288 with 1 Axes>",
      "image/png": "[encoded data removed]"
     },
     "metadata": {
      "needs_background": "light"
     },
     "output_type": "display_data"
    }
   ],
   "source": [
    "plot_importance(model)\n"
   ],
   "metadata": {
    "collapsed": false,
    "pycharm": {
     "name": "#%%\n"
    }
   }
  },
  {
   "cell_type": "code",
   "execution_count": 25,
   "outputs": [
    {
     "data": {
      "text/plain": "{'gamma': 0.02, 'learning_rate': 0.02, 'max_depth': 7, 'n_estimators': 7}"
     },
     "execution_count": 25,
     "metadata": {},
     "output_type": "execute_result"
    }
   ],
   "source": [
    "clf.best_params_\n"
   ],
   "metadata": {
    "collapsed": false,
    "pycharm": {
     "name": "#%%\n"
    }
   }
  },
  {
   "cell_type": "code",
   "execution_count": 27,
   "outputs": [
    {
     "data": {
      "text/plain": "<AxesSubplot:>"
     },
     "execution_count": 27,
     "metadata": {},
     "output_type": "execute_result"
    },
    {
     "data": {
      "text/plain": "<Figure size 432x288 with 1 Axes>",
      "image/png": "[encoded data removed]"
     },
     "metadata": {
      "needs_background": "light"
     },
     "output_type": "display_data"
    }
   ],
   "source": [
    "plot_tree(model)\n"
   ],
   "metadata": {
    "collapsed": false,
    "pycharm": {
     "name": "#%%\n"
    }
   }
  }
 ],
 "metadata": {
  "kernelspec": {
   "display_name": "Python 3",
   "language": "python",
   "name": "python3"
  },
  "language_info": {
   "codemirror_mode": {
    "name": "ipython",
    "version": 2
   },
   "file_extension": ".py",
   "mimetype": "text/x-python",
   "name": "python",
   "nbconvert_exporter": "python",
   "pygments_lexer": "ipython2",
   "version": "2.7.6"
  }
 },
 "nbformat": 4,
 "nbformat_minor": 0
}